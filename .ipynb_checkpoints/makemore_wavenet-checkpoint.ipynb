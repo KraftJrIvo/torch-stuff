{
 "cells": [
  {
   "cell_type": "code",
   "execution_count": 1,
   "id": "a085c791-939a-4508-9e0b-f6930a7f9d7a",
   "metadata": {},
   "outputs": [],
   "source": [
    "WORDS_FILE = 'names.txt'\n",
    "words = open(WORDS_FILE, 'r', encoding=\"utf8\").read().splitlines()\n",
    "words = [w.lower() for w in words]\n",
    "words = [w for w in words if (len(w) > 0)]\n",
    "words[:10]\n",
    "letters = sorted(list(set(''.join(words))))\n",
    "chtoi = {ch:(i+1) for i,ch in enumerate(letters)}\n",
    "chtoi['.'] = 0\n",
    "itoch = {i:ch for ch,i in chtoi.items()}\n",
    "N = len(letters) + 1"
   ]
  },
  {
   "cell_type": "code",
   "execution_count": 2,
   "id": "e3851be3-6bf6-4cb7-a856-15fa56656d07",
   "metadata": {},
   "outputs": [],
   "source": [
    "import torch\n",
    "import torch.nn.functional as F\n",
    "import matplotlib.pyplot as plt\n",
    "%matplotlib inline\n",
    "\n",
    "CTX_SZ = 3\n",
    "\n",
    "def make_dataset(words):\n",
    "    x, y = [], []\n",
    "    for w in words:        \n",
    "        ctx = [0] * CTX_SZ\n",
    "        for ch in w + '.':\n",
    "            idx = chtoi[ch]\n",
    "            x.append(ctx)\n",
    "            y.append(idx)\n",
    "            ctx = ctx[1:] + [idx]\n",
    "    x = torch.tensor(x)\n",
    "    y = torch.tensor(y)\n",
    "    return x, y\n",
    "\n",
    "import random\n",
    "random.seed(244)\n",
    "random.shuffle(words)\n",
    "n1 = int(0.8 * len(words))\n",
    "n2 = int(0.9 * len(words))\n",
    "\n",
    "x_trn, y_trn = make_dataset(words[:n1])\n",
    "x_dev, y_dev = make_dataset(words[n1:n2])\n",
    "x_tst, y_tst = make_dataset(words[n2:])\n",
    "\n",
    "N_SAMPLES_TRN = x_trn.shape[0]\n",
    "N_SAMPLES_DEV = x_dev.shape[0]\n",
    "N_SAMPLES_TST = x_tst.shape[0]"
   ]
  },
  {
   "cell_type": "code",
   "execution_count": 3,
   "id": "12e507ae-249c-4954-8ca0-78e23d1a36d3",
   "metadata": {},
   "outputs": [],
   "source": [
    "class Linear:\n",
    "    def __init__(self, fan_in, fan_out, bias=True):\n",
    "        self.weights = torch.randn((fan_in, fan_out)) / fan_in**0.5 # kaiming init\n",
    "        self.bias = torch.randn(fan_out) if bias else None\n",
    "    def __call__(self, x):\n",
    "        self.out = x @ self.weights\n",
    "        if self.bias is not None:\n",
    "            self.out += self.bias\n",
    "        return self.out\n",
    "    def parameters(self):\n",
    "        return [self.weights] + ([] if self.bias is None else [self.bias])\n",
    "\n",
    "class BatchNorm1d:\n",
    "    def __init__(self, dim, eps=1e-5, momentum=0.1):\n",
    "        self.eps = eps\n",
    "        self.momentum = momentum\n",
    "        self.training = True\n",
    "        # parameters\n",
    "        self.gamma = torch.ones(dim)\n",
    "        self.beta  = torch.zeros(dim)\n",
    "        # buffers\n",
    "        self.running_var  = torch.ones(dim)\n",
    "        self.running_mean = torch.zeros(dim)\n",
    "    def __call__(self, x):\n",
    "        if self.training:\n",
    "            xmean = x.mean(0, keepdim=True) # batch mean\n",
    "            xvar  = x.var(0, keepdim=True) # batch variance\n",
    "        else:\n",
    "            xmean = self.running_mean\n",
    "            xvar  = self.running_var\n",
    "        xhat = (x - xmean) / torch.sqrt(xvar + self.eps) # normalize to unit variance\n",
    "        self.out = self.gamma * xhat + self.beta\n",
    "        # update the buffers\n",
    "        if self.training:\n",
    "            with torch.no_grad():\n",
    "                self.running_mean = (1 - self.momentum) * self.running_mean + self.momentum * xmean\n",
    "                self.running_var = (1 - self.momentum) * self.running_var + self.momentum * xvar\n",
    "        return self.out\n",
    "    def parameters(self):\n",
    "        return [self.gamma, self.beta]\n",
    "\n",
    "class Tanh:\n",
    "    def __call__(self, x):\n",
    "        self.out = torch.tanh(x)\n",
    "        return self.out\n",
    "    def parameters(self):\n",
    "        return []\n",
    "\n",
    "class Embedding:\n",
    "    def __init__(self, n, dim):\n",
    "        self.table = torch.randn((n, dim))\n",
    "    def __call__(self, IX):\n",
    "        self.out = self.table[IX]\n",
    "        return self.out\n",
    "    def parameters(self):\n",
    "        return [self.table]\n",
    "        \n",
    "class Flatten:\n",
    "    def __call__(self, x):\n",
    "        self.out = x.view(x.shape[0], -1)\n",
    "        return self.out\n",
    "    def parameters(self):\n",
    "        return []\n",
    "\n",
    "class Sequential:\n",
    "    def __init__(self, layers):\n",
    "        self.layers = layers\n",
    "\n",
    "    def __call__(self, x):\n",
    "        for layer in self.layers:\n",
    "            x = layer(x)\n",
    "        self.out = x\n",
    "        return self.out\n",
    "\n",
    "    def parameters(self):\n",
    "        return [p for layer in self.layers for p in layer.parameters()]"
   ]
  },
  {
   "cell_type": "code",
   "execution_count": 4,
   "id": "b2b09793-0f60-4da9-8a7d-81025a25c350",
   "metadata": {},
   "outputs": [],
   "source": [
    "HID_SZ = 200\n",
    "EMB_DIM = 10\n",
    "\n",
    "model = Sequential([\n",
    "    Embedding(N, EMB_DIM),\n",
    "    Flatten(),\n",
    "    Linear(EMB_DIM * CTX_SZ, HID_SZ, bias=False), BatchNorm1d(HID_SZ), Tanh(),\n",
    "    Linear(HID_SZ, N)\n",
    "])\n",
    "with torch.no_grad():\n",
    "    model.layers[-1].weights *= 0.1 # less confident init\n",
    "\n",
    "parameters = model.parameters()\n",
    "for p in parameters:\n",
    "    p.requires_grad = True"
   ]
  },
  {
   "cell_type": "code",
   "execution_count": 5,
   "id": "50d16a9f-5c3d-4c65-9ce3-284f0b221271",
   "metadata": {},
   "outputs": [],
   "source": [
    "ITS = 200000\n",
    "BATCH_SZ = 32\n",
    "\n",
    "LR = 0.1\n",
    "losses = []\n",
    "\n",
    "def eval_loss(x, y, batch):\n",
    "    logits = model(x if batch is None else x[batch])\n",
    "    loss = F.cross_entropy(logits, y if batch is None else y[batch])\n",
    "    return loss"
   ]
  },
  {
   "cell_type": "code",
   "execution_count": 6,
   "id": "9c3aaad5-66a7-443f-a7b3-342639ae7f8a",
   "metadata": {},
   "outputs": [
    {
     "name": "stdout",
     "output_type": "stream",
     "text": [
      "      0/ 200000: 3.5822\n",
      "  10000/ 200000: 2.6415\n",
      "  20000/ 200000: 2.1216\n",
      "  30000/ 200000: 2.2203\n",
      "  40000/ 200000: 2.8594\n",
      "  50000/ 200000: 2.4921\n",
      "  60000/ 200000: 2.3447\n",
      "  70000/ 200000: 2.2083\n",
      "  80000/ 200000: 1.7506\n",
      "  90000/ 200000: 2.3929\n",
      " 100000/ 200000: 2.7582\n",
      " 110000/ 200000: 2.3594\n",
      " 120000/ 200000: 2.1749\n",
      " 130000/ 200000: 2.4660\n",
      " 140000/ 200000: 2.3022\n",
      " 150000/ 200000: 2.4446\n",
      " 160000/ 200000: 1.9042\n",
      " 170000/ 200000: 2.0719\n",
      " 180000/ 200000: 2.6143\n",
      " 190000/ 200000: 1.9546\n"
     ]
    }
   ],
   "source": [
    "for l in model.layers:\n",
    "    l.training = True\n",
    "\n",
    "for i in range(ITS):\n",
    "    bix = torch.randint(0, N_SAMPLES_TRN, (BATCH_SZ,))\n",
    "    loss = eval_loss(x_trn, y_trn, bix)\n",
    "    \n",
    "    for p in parameters:\n",
    "        p.grad = None\n",
    "    loss.backward()\n",
    "    \n",
    "    lr = (LR/10) if (i > 3 * ITS / 4) else LR\n",
    "    for p in parameters:\n",
    "        p.data -= LR * p.grad\n",
    "        \n",
    "    if i % 10000 == 0:\n",
    "        print(f'{i:7d}/{ITS:7d}: {loss.item():.4f}')\n",
    "    losses.append(loss.log10().item())\n",
    "\n",
    "for l in model.layers:\n",
    "    l.training = False"
   ]
  },
  {
   "cell_type": "code",
   "execution_count": 7,
   "id": "2c788b11-e060-49b5-ac08-35a9123c5cfe",
   "metadata": {},
   "outputs": [
    {
     "name": "stdout",
     "output_type": "stream",
     "text": [
      "tensor([[-2.2184,  3.1207, -2.1294,  1.0928,  2.5260,  0.0960, -1.0006,  3.5081,\n",
      "         -1.2246,  2.9915,  1.7249,  3.3309, -0.5930, -0.5917,  3.0616,  1.4117,\n",
      "         -3.1045, -0.0849,  0.3044,  4.4137, -2.4397, -2.2892, -4.1179, -1.8765,\n",
      "          1.6290, -2.5879, -2.2810, -2.4720,  1.0730, -4.8885,  3.4964, -1.8515,\n",
      "         -0.8874,  5.2691, -0.3173,  3.0951, -1.6918, -2.0940, -1.4148, -3.3279,\n",
      "          3.0954,  0.8103,  0.6883, -0.3993,  1.2200,  3.5420,  1.9961, -0.5150,\n",
      "         -1.3013, -0.5051, -1.8325,  0.6993,  0.6655, -1.7040,  0.4226, -2.8339,\n",
      "         -0.5554,  0.0490, -1.3084, -3.3611,  1.6179, -2.5762, -2.9549, -1.0822,\n",
      "          0.3710, -3.3103, -0.1881, -0.0940, -3.3602,  0.8299, -0.7166, -1.6710,\n",
      "         -1.5538,  3.9993,  1.5417, -0.5239,  0.3463, -0.5673,  3.0281,  1.4256,\n",
      "          2.4578, -2.2504, -2.4425,  0.4771,  3.2728, -1.1386, -0.5831,  0.9197,\n",
      "         -1.0429, -3.4140,  0.8737, -0.0419,  4.6198,  0.8066,  2.1788,  0.0125,\n",
      "          1.2529, -3.8424, -1.7819,  4.0063]])\n",
      "tensor([[13.9534, 17.7162, 13.7698, 30.0983, 10.2920,  5.6243, 10.3951, 19.3453,\n",
      "         15.5195, 12.3523, 12.0756, 16.6160,  2.7164, 12.5699, 10.8056, 15.1015,\n",
      "         15.4500, 31.5892, 11.9571, 26.0659, 25.5310, 28.2617, 20.6625, 13.8645,\n",
      "         19.2458, 19.8252, 18.7499, 24.4443, 10.1468, 23.6776, 14.9733, 10.5843,\n",
      "         12.2146, 34.0076, 19.6313, 24.0856,  6.9256, 10.0792, 15.0625, 15.9097,\n",
      "         19.3649,  5.1189, 13.4948, 20.7256,  9.8389, 25.8694, 31.6896, 12.5929,\n",
      "          9.8220, 23.4409,  5.7057, 19.8508,  7.1866, 13.2749, 13.8184, 17.2864,\n",
      "          2.0390,  2.0187, 18.4230, 31.9889, 15.0808, 14.5078, 16.7932, 16.0038,\n",
      "         14.4432, 11.5641, 16.8367, 19.5811, 11.8998, 29.5891,  6.9422, 10.9554,\n",
      "         12.5025, 12.9454, 20.3898, 14.3919, 10.0133, 10.8791, 17.9181, 17.2916,\n",
      "         11.2120, 14.5550, 13.2703, 21.6155, 22.4025, 20.3217, 13.0265, 25.6136,\n",
      "          9.5060, 11.1497, 12.2264,  9.5292, 21.5542, 15.7463, 11.6615,  3.5147,\n",
      "         40.9705, 16.4383, 10.2566, 22.1264]])\n"
     ]
    },
    {
     "data": {
      "text/plain": [
       "[<matplotlib.lines.Line2D at 0x22447da6c30>]"
      ]
     },
     "execution_count": 7,
     "metadata": {},
     "output_type": "execute_result"
    },
    {
     "data": {
      "image/png": "[encoded data removed]",
      "text/plain": [
       "<Figure size 640x480 with 1 Axes>"
      ]
     },
     "metadata": {},
     "output_type": "display_data"
    }
   ],
   "source": [
    "print(model.layers[3].running_mean)\n",
    "print(model.layers[3].running_var)\n",
    "plt.plot(torch.tensor(losses).view(-1, 1000).mean(1))"
   ]
  },
  {
   "cell_type": "code",
   "execution_count": 8,
   "id": "f02482f1-5bd4-4e71-9192-f20132fa59f8",
   "metadata": {},
   "outputs": [
    {
     "name": "stdout",
     "output_type": "stream",
     "text": [
      "2.270021677017212\n",
      "2.273909568786621\n"
     ]
    }
   ],
   "source": [
    "print(eval_loss(x_trn, y_trn, None).item())\n",
    "print(eval_loss(x_dev, y_dev, None).item())"
   ]
  },
  {
   "cell_type": "code",
   "execution_count": 10,
   "id": "d55e3684-0e19-40f8-96b2-aaea3f76af1c",
   "metadata": {},
   "outputs": [
    {
     "name": "stdout",
     "output_type": "stream",
     "text": [
      "junide\n",
      "jakasar\n",
      "pallay\n",
      "aina\n",
      "kairritolian\n",
      "jyel\n",
      "kalania\n",
      "zarilenias\n",
      "dedainr\n",
      "imel\n",
      "seoniely\n",
      "arte\n",
      "farmunthyfontumernontelena\n",
      "jaylyn\n",
      "raayae\n",
      "oca\n",
      "aja\n",
      "barler\n",
      "moiim\n",
      "ynin\n"
     ]
    }
   ],
   "source": [
    "g = torch.Generator().manual_seed(2147483647)\n",
    "idx = 0\n",
    "for k in range(20):\n",
    "    word = ''\n",
    "    ctx = [0] * CTX_SZ\n",
    "    while True:\n",
    "        logits = model(torch.tensor([ctx]))\n",
    "        probs = F.softmax(logits, dim=1)\n",
    "        idx = torch.multinomial(probs, num_samples=1, replacement=True, generator=g).item()\n",
    "        ctx = ctx[1:] + [idx]\n",
    "        if idx == 0:\n",
    "            print(word)\n",
    "            break\n",
    "        word += itoch[idx]"
   ]
  },
  {
   "cell_type": "code",
   "execution_count": null,
   "id": "6d753796-21ad-4313-a8e3-89525e52986d",
   "metadata": {},
   "outputs": [],
   "source": []
  }
 ],
 "metadata": {
  "kernelspec": {
   "display_name": "Python 3 (ipykernel)",
   "language": "python",
   "name": "python3"
  },
  "language_info": {
   "codemirror_mode": {
    "name": "ipython",
    "version": 3
   },
   "file_extension": ".py",
   "mimetype": "text/x-python",
   "name": "python",
   "nbconvert_exporter": "python",
   "pygments_lexer": "ipython3",
   "version": "3.12.1"
  }
 },
 "nbformat": 4,
 "nbformat_minor": 5
}
