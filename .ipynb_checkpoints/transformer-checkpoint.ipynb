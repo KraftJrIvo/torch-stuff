{
 "cells": [
  {
   "cell_type": "code",
   "execution_count": 1,
   "id": "031e6bd9-75e4-463d-9087-3954544acc60",
   "metadata": {},
   "outputs": [],
   "source": [
    "import random\n",
    "import torch\n",
    "import torch.nn as NN\n",
    "from torch.nn import functional as F\n",
    "import matplotlib.pyplot as plt\n",
    "\n",
    "with open('shakespeare.txt', 'r', encoding='utf-8') as f:\n",
    "    text = f.read()\n",
    "chars = sorted(list(set(text)))\n",
    "i2c = { i:ch for i, ch in enumerate(chars) }\n",
    "c2i = { ch[1]:i for i, ch in enumerate(i2c.items())}\n",
    "N = len(chars)\n",
    "LEN = len(text)\n",
    "encode = lambda s: [c2i[c] for c in s]\n",
    "decode = lambda l: ''.join([i2c[i] for i in l])\n",
    "text_enc = encode(text)\n",
    "\n",
    "CTX_SZ = 8\n",
    "xs, ys = [], []\n",
    "for s in range(LEN - CTX_SZ):\n",
    "    xs.append(text_enc[s:s+CTX_SZ])\n",
    "    ys.append(text_enc[s+1:s+CTX_SZ+1])\n",
    "\n",
    "tmp = list(zip(xs, ys))\n",
    "random.shuffle(tmp)\n",
    "xs, ys = zip(*tmp)\n",
    "xs, ys = list(xs), list(ys)\n",
    "\n",
    "n = int(0.9 * LEN)\n",
    "xs_trn, ys_trn = torch.tensor(xs[:n]), torch.tensor(ys[:n])\n",
    "xs_val, ys_val = torch.tensor(xs[n:]), torch.tensor(ys[n:])\n",
    "\n",
    "device = 'cuda' if torch.cuda.is_available() else 'cpu'\n",
    "xs_trn, ys_trn = xs_trn.to(device), ys_trn.to(device)\n",
    "xs_val, ys_val = xs_val.to(device), ys_val.to(device)"
   ]
  },
  {
   "cell_type": "code",
   "execution_count": 2,
   "id": "a877bff4-9e5a-42db-a2c8-c1560eb6c0e5",
   "metadata": {},
   "outputs": [
    {
     "name": "stdout",
     "output_type": "stream",
     "text": [
      "\n",
      "?r'kUUIjbv?pnb..zpUhOEA'R\n",
      "Unpn;iWnah\n",
      ".Yk.kQPi'H\n",
      "\n",
      "!suy eNbdDtwmYQb'kJcyYwE;pzAqOH!'!zigm'B:ZWzXERfQio\n"
     ]
    }
   ],
   "source": [
    "class BigramLanguageModel(NN.Module):\n",
    "    def __init__(self, voc_sz):\n",
    "        super().__init__()\n",
    "        self.tok_emb_table = NN.Embedding(voc_sz, voc_sz)\n",
    "    def forward(self, idx, targets=None):\n",
    "        logits = self.tok_emb_table(idx)\n",
    "        if targets is None:\n",
    "            loss = None\n",
    "        else:\n",
    "            B, T, C = logits.shape\n",
    "            logits = logits.view(B * T, C)\n",
    "            loss = F.cross_entropy(logits, targets.view(B * T))        \n",
    "        return logits, loss\n",
    "    def generate(self, idx, max_new_tok):\n",
    "        for _ in range(max_new_tok):\n",
    "            logits, _ = self(idx)\n",
    "            probs = F.softmax(logits[:, -1, :], dim=1)\n",
    "            idx_nxt = torch.multinomial(probs, num_samples=1)\n",
    "            idx = torch.cat((idx, idx_nxt), dim=1)\n",
    "        return idx\n",
    "\n",
    "model = BigramLanguageModel(N).to(device)\n",
    "#print(model(xs_trn[0:1], ys_trn[0:1]))\n",
    "print(decode(model.generate(torch.zeros((1,1), dtype=torch.long).to(device), max_new_tok=100)[0].tolist()))  "
   ]
  },
  {
   "cell_type": "code",
   "execution_count": 3,
   "id": "74f5d730-f36b-45ce-9dcb-dcffc9b47f72",
   "metadata": {},
   "outputs": [
    {
     "data": {
      "text/plain": [
       "[<matplotlib.lines.Line2D at 0x2385dc06240>]"
      ]
     },
     "execution_count": 3,
     "metadata": {},
     "output_type": "execute_result"
    },
    {
     "data": {
      "image/png": "[encoded data removed]",
      "text/plain": [
       "<Figure size 640x480 with 1 Axes>"
      ]
     },
     "metadata": {},
     "output_type": "display_data"
    }
   ],
   "source": [
    "optimizer = torch.optim.AdamW(model.parameters(), lr=1e-3)\n",
    "\n",
    "EVAL_INT = 200\n",
    "@torch.no_grad()\n",
    "def est_loss(model, d):\n",
    "    out = {}\n",
    "    model.eval()\n",
    "    for splt in ['trn', 'val']:\n",
    "        lossi = torch.zeros(EVAL_INT)\n",
    "        for k in range(EVAL_INT):\n",
    "            bix = torch.randint(d[splt][0].shape[0] - 1, (BATCH_SZ,)).to(device)\n",
    "            _, loss = model(d[splt][0][bix], d[splt][1][bix])\n",
    "            lossi[k] = loss.item()\n",
    "        out[splt] = lossi.mean()\n",
    "    model.train()\n",
    "    return out\n",
    "\n",
    "BATCH_SZ = 32\n",
    "lossi = {'trn':[], 'val':[]}\n",
    "for i in range(10000):\n",
    "    xb, yb = xs_trn[i*BATCH_SZ : (i+1)*BATCH_SZ], ys_trn[i*BATCH_SZ : (i+1)*BATCH_SZ]\n",
    "    logits, loss = model(xb, yb)\n",
    "    optimizer.zero_grad(set_to_none=True)\n",
    "    loss.backward()\n",
    "    optimizer.step()\n",
    "    if i % EVAL_INT == 0:\n",
    "        est = est_loss(model, {'trn': [xs_trn, ys_trn], 'val': [xs_val, ys_val]})\n",
    "        lossi['trn'].append(est['trn'])\n",
    "        lossi['val'].append(est['val'])\n",
    "plt.plot(lossi['trn'])\n",
    "plt.plot(lossi['val'])"
   ]
  },
  {
   "cell_type": "code",
   "execution_count": 4,
   "id": "f55a827c-0906-45b1-93c4-a6cdfd71bc1b",
   "metadata": {},
   "outputs": [
    {
     "name": "stdout",
     "output_type": "stream",
     "text": [
      "\n",
      "My ton aut\n",
      "\n",
      "Ofarearucqb.\n",
      "RI s by VO:\n",
      "ASOFory hin thind, thy, o d, what fineds oun d thoubererend:\n",
      "Fa\n"
     ]
    }
   ],
   "source": [
    "print(decode(model.generate(torch.zeros((1,1), dtype=torch.long).to(device), max_new_tok=100)[0].tolist())) "
   ]
  },
  {
   "cell_type": "code",
   "execution_count": 5,
   "id": "583bf879-3ef1-4f6b-aca5-9cf322a1cba4",
   "metadata": {},
   "outputs": [],
   "source": [
    "class BigramLanguageModel2(NN.Module):\n",
    "    def __init__(self, voc_sz, n_emb, ctx_sz):\n",
    "        super().__init__()\n",
    "        self.tok_emb_table = NN.Embedding(voc_sz, n_emb)\n",
    "        self.pos_emb_table = NN.Embedding(ctx_sz, n_emb)\n",
    "        self.lm_head = NN.Linear(n_emb, voc_sz)\n",
    "    def forward(self, idx, targets=None):\n",
    "        tok_emb = self.tok_emb_table(idx)\n",
    "        pos_emb = self.pos_emb_table(torch.arange(T, device=device))\n",
    "        x = tok_emb + pos_emb\n",
    "        logits = self.lm_head(x)\n",
    "        if targets is None:\n",
    "            loss = None\n",
    "        else:\n",
    "            B, T, C = logits.shape\n",
    "            logits = logits.view(B * T, C)\n",
    "            loss = F.cross_entropy(logits, targets.view(B * T))        \n",
    "        return logits, loss\n",
    "    def generate(self, idx, max_new_tok):\n",
    "        for _ in range(max_new_tok):\n",
    "            logits, _ = self(idx)\n",
    "            probs = F.softmax(logits[:, -1, :], dim=1)\n",
    "            idx_nxt = torch.multinomial(probs, num_samples=1)\n",
    "            idx = torch.cat((idx, idx_nxt), dim=1)\n",
    "        return idx"
   ]
  },
  {
   "cell_type": "code",
   "execution_count": 6,
   "id": "0a01406b-2061-4510-81a0-86e5ea59511a",
   "metadata": {},
   "outputs": [],
   "source": [
    "class SelfAttentionHead(NN.Module):\n",
    "    def __init__(self, head_sz, n_emb, ctx_sz):\n",
    "        super().__init__()\n",
    "        self.keys = NN.Linear(n_emb, head_sz, bias=False)\n",
    "        self.queries = NN.Linear(n_emb, head_sz, bias=False)\n",
    "        self.values = NN.Linear(n_emb, head_sz, bias=False)\n",
    "        self.register_buffer('tril', torch.tril(torch.ones(ctx_sz, ctx_sz)))\n",
    "    def forward(self, x):\n",
    "        B, T, C = x.shape\n",
    "        k = self.keys(x) #    (B,T,C)\n",
    "        q = self.queries(x) # (B,T,C)\n",
    "        weights = q @ k.transpose(-2, -1) * C**-0.5 # (B,T,T)\n",
    "        weights = weights.masked_fill(self.tril[:T, :T] == 0, float('-inf')) # (B,T,T)\n",
    "        weights = F.softmax(weights, dim=-1) # (B,T,T)\n",
    "        v = self.values(x) # (B,T,C)\n",
    "        out = weights @ v # (B,T,C)\n",
    "        return out"
   ]
  },
  {
   "cell_type": "code",
   "execution_count": 7,
   "id": "fe0ae19f-ceaf-4de7-8a83-27b945333e37",
   "metadata": {},
   "outputs": [],
   "source": [
    "class TransformerLanguageModel(NN.Module):\n",
    "    def __init__(self, voc_sz, n_emb, ctx_sz):\n",
    "        super().__init__()\n",
    "        self.ctx_sz = ctx_sz\n",
    "        self.tok_emb_table = NN.Embedding(voc_sz, n_emb)\n",
    "        self.pos_emb_table = NN.Embedding(ctx_sz, n_emb)\n",
    "        self.sa_head = SelfAttentionHead(n_emb, n_emb, ctx_sz)\n",
    "        self.lm_head = NN.Linear(n_emb, voc_sz)\n",
    "    def forward(self, idx, targets=None):\n",
    "        B, T = idx.shape        \n",
    "        tok_emb = self.tok_emb_table(idx)\n",
    "        pos_emb = self.pos_emb_table(torch.arange(T, device=device))\n",
    "        x = tok_emb + pos_emb\n",
    "        x = self.sa_head(x)\n",
    "        logits = self.lm_head(x)\n",
    "        if targets is None:\n",
    "            loss = None\n",
    "        else:\n",
    "            B, T, C = logits.shape\n",
    "            logits = logits.view(B * T, C)\n",
    "            loss = F.cross_entropy(logits, targets.view(B * T))        \n",
    "        return logits, loss\n",
    "    def generate(self, idx, max_new_tok):\n",
    "        for _ in range(max_new_tok):\n",
    "            idx_crop = idx[:, -self.ctx_sz:]\n",
    "            logits, _ = self(idx_crop)\n",
    "            probs = F.softmax(logits[:, -1, :], dim=1)\n",
    "            idx_nxt = torch.multinomial(probs, num_samples=1)\n",
    "            idx = torch.cat((idx, idx_nxt), dim=1)\n",
    "        return idx"
   ]
  },
  {
   "cell_type": "code",
   "execution_count": 8,
   "id": "9c4c874f-8b6e-44cb-9961-a3f7c223eaff",
   "metadata": {},
   "outputs": [],
   "source": [
    "N_EMB = 32\n",
    "model = TransformerLanguageModel(N, N_EMB, CTX_SZ).to(device)\n",
    "optimizer = torch.optim.AdamW(model.parameters(), lr=1e-3)"
   ]
  },
  {
   "cell_type": "code",
   "execution_count": 9,
   "id": "68278ebb-e940-443c-9cac-0f7a65ce779a",
   "metadata": {},
   "outputs": [
    {
     "name": "stdout",
     "output_type": "stream",
     "text": [
      "tensor(4.2444)\n",
      "tensor(2.5104)\n",
      "tensor(2.4420)\n",
      "tensor(2.4137)\n",
      "tensor(2.3986)\n",
      "tensor(2.3837)\n",
      "tensor(2.3747)\n",
      "tensor(2.3672)\n",
      "tensor(2.3676)\n",
      "tensor(2.3599)\n",
      "tensor(2.3555)\n",
      "tensor(2.3513)\n",
      "tensor(2.3479)\n",
      "tensor(2.3463)\n",
      "tensor(2.3424)\n",
      "tensor(2.3503)\n",
      "tensor(2.3410)\n",
      "tensor(2.3409)\n",
      "tensor(2.3400)\n",
      "tensor(2.3333)\n",
      "tensor(2.3324)\n",
      "tensor(2.3350)\n",
      "tensor(2.3346)\n",
      "tensor(2.3362)\n",
      "tensor(2.3267)\n"
     ]
    },
    {
     "data": {
      "text/plain": [
       "[<matplotlib.lines.Line2D at 0x2385dcd47a0>]"
      ]
     },
     "execution_count": 9,
     "metadata": {},
     "output_type": "execute_result"
    },
    {
     "data": {
      "image/png": "[encoded data removed]",
      "text/plain": [
       "<Figure size 640x480 with 1 Axes>"
      ]
     },
     "metadata": {},
     "output_type": "display_data"
    }
   ],
   "source": [
    "EVAL_INT = 1000\n",
    "@torch.no_grad()\n",
    "def est_loss(model, d):\n",
    "    out = {}\n",
    "    model.eval()\n",
    "    for splt in ['trn', 'val']:\n",
    "        lossi = torch.zeros(EVAL_INT)\n",
    "        for k in range(EVAL_INT):\n",
    "            bix = torch.randint(d[splt][0].shape[0] - 1, (BATCH_SZ,)).to(device)\n",
    "            _, loss = model(d[splt][0][bix], d[splt][1][bix])\n",
    "            lossi[k] = loss.item()\n",
    "        out[splt] = lossi.mean()\n",
    "    model.train()\n",
    "    return out\n",
    "\n",
    "BATCH_SZ = 32\n",
    "lossi = {'trn':[], 'val':[]}\n",
    "for i in range(25000):\n",
    "    xb, yb = xs_trn[i*BATCH_SZ : (i+1)*BATCH_SZ], ys_trn[i*BATCH_SZ : (i+1)*BATCH_SZ]\n",
    "    logits, loss = model(xb, yb)\n",
    "    optimizer.zero_grad(set_to_none=True)\n",
    "    loss.backward()\n",
    "    optimizer.step()\n",
    "    if i % EVAL_INT == 0:\n",
    "        est = est_loss(model, {'trn': [xs_trn, ys_trn], 'val': [xs_val, ys_val]})\n",
    "        lossi['trn'].append(est['trn'])\n",
    "        lossi['val'].append(est['val'])\n",
    "        print(est['trn'])\n",
    "plt.plot(lossi['trn'])\n",
    "plt.plot(lossi['val'])"
   ]
  },
  {
   "cell_type": "code",
   "execution_count": 11,
   "id": "a33092b5-7726-402e-9941-186de81ce628",
   "metadata": {},
   "outputs": [
    {
     "name": "stdout",
     "output_type": "stream",
     "text": [
      "\n",
      "LOusth\n",
      "Non,\n",
      "Thono thour hat yo urd wood magh takest!\n",
      "Whe oucetranvellind, mur\n",
      "I neld; nd tha id nger\n"
     ]
    }
   ],
   "source": [
    "print(decode(model.generate(torch.zeros((1,1), dtype=torch.long).to(device), max_new_tok=100)[0].tolist())) "
   ]
  },
  {
   "cell_type": "code",
   "execution_count": 18,
   "id": "5babb0bc-db23-4f85-abd8-3ef18587c176",
   "metadata": {},
   "outputs": [],
   "source": [
    "class SelfAttentionMultiHead(NN.Module):\n",
    "    def __init__(self, n_heads, head_sz, n_emb, ctx_sz):\n",
    "        super().__init__()\n",
    "        self.heads = NN.ModuleList([SelfAttentionHead(head_sz, n_emb, ctx_sz) for _ in range(n_heads)])\n",
    "    def forward(self, x):\n",
    "        return torch.cat([h(x) for h in self.heads], dim=-1)\n",
    "\n",
    "class TransformerLanguageModel2(NN.Module):\n",
    "    def __init__(self, n_heads, voc_sz, n_emb, ctx_sz):\n",
    "        super().__init__()\n",
    "        self.ctx_sz = ctx_sz\n",
    "        self.tok_emb_table = NN.Embedding(voc_sz, n_emb)\n",
    "        self.pos_emb_table = NN.Embedding(ctx_sz, n_emb)\n",
    "        self.sa_heads = SelfAttentionMultiHead(n_heads, n_emb // n_heads, n_emb, ctx_sz)\n",
    "        self.lm_head = NN.Linear(n_emb, voc_sz)\n",
    "    def forward(self, idx, targets=None):\n",
    "        B, T = idx.shape        \n",
    "        tok_emb = self.tok_emb_table(idx)\n",
    "        pos_emb = self.pos_emb_table(torch.arange(T, device=device))\n",
    "        x = tok_emb + pos_emb\n",
    "        x = self.sa_heads(x)\n",
    "        logits = self.lm_head(x)\n",
    "        if targets is None:\n",
    "            loss = None\n",
    "        else:\n",
    "            B, T, C = logits.shape\n",
    "            logits = logits.view(B * T, C)\n",
    "            loss = F.cross_entropy(logits, targets.view(B * T))        \n",
    "        return logits, loss\n",
    "    def generate(self, idx, max_new_tok):\n",
    "        for _ in range(max_new_tok):\n",
    "            idx_crop = idx[:, -self.ctx_sz:]\n",
    "            logits, _ = self(idx_crop)\n",
    "            probs = F.softmax(logits[:, -1, :], dim=1)\n",
    "            idx_nxt = torch.multinomial(probs, num_samples=1)\n",
    "            idx = torch.cat((idx, idx_nxt), dim=1)\n",
    "        return idx"
   ]
  },
  {
   "cell_type": "code",
   "execution_count": 19,
   "id": "18ab7ab2-72db-4444-a7d9-19a237fb50f8",
   "metadata": {},
   "outputs": [
    {
     "name": "stdout",
     "output_type": "stream",
     "text": [
      "tensor(4.1609)\n",
      "tensor(2.5213)\n",
      "tensor(2.3994)\n",
      "tensor(2.3369)\n",
      "tensor(2.2899)\n",
      "tensor(2.2658)\n",
      "tensor(2.2377)\n",
      "tensor(2.2236)\n",
      "tensor(2.2115)\n",
      "tensor(2.2026)\n",
      "tensor(2.1866)\n",
      "tensor(2.1796)\n",
      "tensor(2.1709)\n",
      "tensor(2.1648)\n",
      "tensor(2.1696)\n",
      "tensor(2.1586)\n",
      "tensor(2.1591)\n",
      "tensor(2.1563)\n",
      "tensor(2.1492)\n",
      "tensor(2.1447)\n",
      "tensor(2.1376)\n",
      "tensor(2.1389)\n",
      "tensor(2.1356)\n",
      "tensor(2.1366)\n",
      "tensor(2.1238)\n"
     ]
    },
    {
     "data": {
      "text/plain": [
       "[<matplotlib.lines.Line2D at 0x2396d17d040>]"
      ]
     },
     "execution_count": 19,
     "metadata": {},
     "output_type": "execute_result"
    },
    {
     "data": {
      "image/png": "[encoded data removed]",
      "text/plain": [
       "<Figure size 640x480 with 1 Axes>"
      ]
     },
     "metadata": {},
     "output_type": "display_data"
    }
   ],
   "source": [
    "N_EMB = 32\n",
    "model = TransformerLanguageModel2(4, N, N_EMB, CTX_SZ).to(device)\n",
    "optimizer = torch.optim.AdamW(model.parameters(), lr=1e-3)\n",
    "\n",
    "BATCH_SZ = 32\n",
    "lossi = {'trn':[], 'val':[]}\n",
    "for i in range(25000):\n",
    "    xb, yb = xs_trn[i*BATCH_SZ : (i+1)*BATCH_SZ], ys_trn[i*BATCH_SZ : (i+1)*BATCH_SZ]\n",
    "    logits, loss = model(xb, yb)\n",
    "    optimizer.zero_grad(set_to_none=True)\n",
    "    loss.backward()\n",
    "    optimizer.step()\n",
    "    if i % EVAL_INT == 0:\n",
    "        est = est_loss(model, {'trn': [xs_trn, ys_trn], 'val': [xs_val, ys_val]})\n",
    "        lossi['trn'].append(est['trn'])\n",
    "        lossi['val'].append(est['val'])\n",
    "        print(est['trn'])\n",
    "plt.plot(lossi['trn'])\n",
    "plt.plot(lossi['val'])"
   ]
  },
  {
   "cell_type": "code",
   "execution_count": 21,
   "id": "c2c9f69b-4ad2-41e6-b36e-790a14a36fb4",
   "metadata": {},
   "outputs": [
    {
     "name": "stdout",
     "output_type": "stream",
     "text": [
      "\n",
      "Yourt'd thant chat, isett; ant many kere me hershoulkn bing,\n",
      "ARUMNES:\n",
      "And ypllond ankein hereto vel mest\n",
      "sunt of thou\n",
      "If my shuch prl:\n",
      "Whell sht offe a chaty my lonsiose the kings you he this, sientenot? sitiss pringtery chan, unt tholdld my all,\n",
      "Depeth.\n",
      "\n",
      "Martey'bare! surpe, solay hin whee she threan hattr? teefor, lright tar dome\n",
      "riee hatepain whe my I gen the thad if spersomin\n",
      "Went.\n",
      "\n",
      "POLO:\n",
      "Wha up.'\n",
      "Lel wer;\n",
      "ISAPULIFFFLOUCES:\n",
      "The Andgs to to I andis vensite then thin cut ruchtrace, macanased fise injewthl muster mano ther ford sta rishin with; whrow\n",
      "Mit cow told med of here\n",
      "Mursios vora my exp myse hend key\n",
      "parseg,\n",
      "Defulsty\n",
      "By do cenith:\n",
      "Nornce; ge dary by, vore: astis yexeer nothesway the hatford mese proo, hather atter, sour knowsint whent'd is lard is wit your ile ntiomames ads eprom bewritght the be mambirst you deavongd,'\n",
      "SAndien. Teakin sham wobu woon ma-chidge?\n",
      "\n",
      "Shis sour thine: cung hat mood: brookn betthave femauchm?\n",
      "\n",
      "KORTIONIUS,\n",
      "Thor\n",
      "prorn Pris agin vis may plat boan his is \n"
     ]
    }
   ],
   "source": [
    "print(decode(model.generate(torch.zeros((1,1), dtype=torch.long).to(device), max_new_tok=1000)[0].tolist())) "
   ]
  },
  {
   "cell_type": "code",
   "execution_count": 24,
   "id": "887eb63a-c668-4694-8ece-df5d777c11f4",
   "metadata": {},
   "outputs": [],
   "source": [
    "class FeedForward(NN.Module):\n",
    "    def __init__(self, n_emb):\n",
    "        super().__init__()\n",
    "        self.net = NN.Sequential(\n",
    "            NN.Linear(n_emb, n_emb),\n",
    "            NN.ReLU(),\n",
    "        )\n",
    "    def forward(self, x):\n",
    "        return self.net(x)\n",
    "\n",
    "class TransformerLanguageModel3(NN.Module):\n",
    "    def __init__(self, n_heads, voc_sz, n_emb, ctx_sz):\n",
    "        super().__init__()\n",
    "        self.ctx_sz = ctx_sz\n",
    "        self.tok_emb_table = NN.Embedding(voc_sz, n_emb)\n",
    "        self.pos_emb_table = NN.Embedding(ctx_sz, n_emb)\n",
    "        self.sa_heads = SelfAttentionMultiHead(n_heads, n_emb // n_heads, n_emb, ctx_sz)\n",
    "        self.ffwd = FeedForward(n_emb)\n",
    "        self.lm_head = NN.Linear(n_emb, voc_sz)\n",
    "    def forward(self, idx, targets=None):\n",
    "        B, T = idx.shape        \n",
    "        tok_emb = self.tok_emb_table(idx)\n",
    "        pos_emb = self.pos_emb_table(torch.arange(T, device=device))\n",
    "        x = tok_emb + pos_emb\n",
    "        x = self.sa_heads(x)\n",
    "        x = self.ffwd(x)\n",
    "        logits = self.lm_head(x)\n",
    "        if targets is None:\n",
    "            loss = None\n",
    "        else:\n",
    "            B, T, C = logits.shape\n",
    "            logits = logits.view(B * T, C)\n",
    "            loss = F.cross_entropy(logits, targets.view(B * T))        \n",
    "        return logits, loss\n",
    "    def generate(self, idx, max_new_tok):\n",
    "        for _ in range(max_new_tok):\n",
    "            idx_crop = idx[:, -self.ctx_sz:]\n",
    "            logits, _ = self(idx_crop)\n",
    "            probs = F.softmax(logits[:, -1, :], dim=1)\n",
    "            idx_nxt = torch.multinomial(probs, num_samples=1)\n",
    "            idx = torch.cat((idx, idx_nxt), dim=1)\n",
    "        return idx"
   ]
  },
  {
   "cell_type": "code",
   "execution_count": 25,
   "id": "f6637530-978e-4f98-91fe-5801b45efe55",
   "metadata": {},
   "outputs": [
    {
     "name": "stdout",
     "output_type": "stream",
     "text": [
      "tensor(4.2604)\n",
      "tensor(2.4415)\n",
      "tensor(2.3381)\n",
      "tensor(2.2868)\n",
      "tensor(2.2489)\n",
      "tensor(2.2275)\n",
      "tensor(2.2064)\n",
      "tensor(2.1917)\n",
      "tensor(2.1793)\n",
      "tensor(2.1702)\n",
      "tensor(2.1616)\n",
      "tensor(2.1530)\n",
      "tensor(2.1418)\n",
      "tensor(2.1425)\n",
      "tensor(2.1363)\n",
      "tensor(2.1298)\n",
      "tensor(2.1250)\n",
      "tensor(2.1189)\n",
      "tensor(2.1158)\n",
      "tensor(2.1060)\n",
      "tensor(2.1032)\n",
      "tensor(2.1057)\n",
      "tensor(2.1044)\n",
      "tensor(2.1032)\n",
      "tensor(2.0951)\n"
     ]
    },
    {
     "data": {
      "text/plain": [
       "[<matplotlib.lines.Line2D at 0x2396d21a5d0>]"
      ]
     },
     "execution_count": 25,
     "metadata": {},
     "output_type": "execute_result"
    },
    {
     "data": {
      "image/png": "[encoded data removed]",
      "text/plain": [
       "<Figure size 640x480 with 1 Axes>"
      ]
     },
     "metadata": {},
     "output_type": "display_data"
    }
   ],
   "source": [
    "N_EMB = 32\n",
    "model = TransformerLanguageModel3(4, N, N_EMB, CTX_SZ).to(device)\n",
    "optimizer = torch.optim.AdamW(model.parameters(), lr=1e-3)\n",
    "\n",
    "BATCH_SZ = 32\n",
    "lossi = {'trn':[], 'val':[]}\n",
    "for i in range(25000):\n",
    "    xb, yb = xs_trn[i*BATCH_SZ : (i+1)*BATCH_SZ], ys_trn[i*BATCH_SZ : (i+1)*BATCH_SZ]\n",
    "    logits, loss = model(xb, yb)\n",
    "    optimizer.zero_grad(set_to_none=True)\n",
    "    loss.backward()\n",
    "    optimizer.step()\n",
    "    if i % EVAL_INT == 0:\n",
    "        est = est_loss(model, {'trn': [xs_trn, ys_trn], 'val': [xs_val, ys_val]})\n",
    "        lossi['trn'].append(est['trn'])\n",
    "        lossi['val'].append(est['val'])\n",
    "        print(est['trn'])\n",
    "plt.plot(lossi['trn'])\n",
    "plt.plot(lossi['val'])"
   ]
  },
  {
   "cell_type": "code",
   "execution_count": 26,
   "id": "de14d501-a638-430d-9e62-8eba1728d0cf",
   "metadata": {},
   "outputs": [
    {
     "name": "stdout",
     "output_type": "stream",
     "text": [
      "\n",
      "And,\n",
      "To sow, I sastmams of by must! yougis coothet issse can\n",
      "That thou, pountrown sel wan my of Ko Mushart\n",
      "my do to, whey I pliey dece, cour appet to the of se do conse crusord.\n",
      "\n",
      "BRUCKING Lam hat sing sio'd ulsomer? Buso fate this sor shatio devay sall cod: by bep!\n",
      "Ghrat on:\n",
      "Thalt:\n",
      "Prrour hast on hat evis's all anivilagant, poe soment; wheree and to this forstaind Hent hand muing sur not mentear: fand's a lame: var lif,\n",
      "Dudshalf I wicle by my for agrgow to thous up evall and not wouier mat parnot shan that, andes and to sparliteen schey is as I tahter soon, fow wher, werack'd? thall toly bef drundred, whisainced hise and as then,\n",
      "crie, o's frit with mawny.\n",
      "\n",
      "GLEONUS:\n",
      "Pis and mollonk you to by bearter as.\n",
      "FlID Haind it weliver's thaol inksirisid die? in this?\n",
      "Unleeds, itur triden:\n",
      "O, anings hoancrunret gar cay and thim, To rom way:\n",
      "An Ring.\n",
      "\n",
      "Nab it wick, yetor hatdauldo's suis.\n",
      "\n",
      "GShall comlute,\n",
      "Whe it lord surster the rep the andseriours? I.\n",
      "\n",
      "LArnd swilist me:\n",
      "'Till it akiess,\n",
      "We.\n",
      "\n",
      "PUMEL\n"
     ]
    }
   ],
   "source": [
    "print(decode(model.generate(torch.zeros((1,1), dtype=torch.long).to(device), max_new_tok=1000)[0].tolist())) "
   ]
  },
  {
   "cell_type": "code",
   "execution_count": 34,
   "id": "b83cd4a9-ab29-4a44-9bc5-1cafa15ddc8b",
   "metadata": {},
   "outputs": [],
   "source": [
    "class TransformerBlock(NN.Module):\n",
    "    def __init__(self, n_heads, n_emb, ctx_sz):\n",
    "        super().__init__()\n",
    "        head_sz = n_emb // n_heads\n",
    "        self.sa = SelfAttentionMultiHead(n_heads, head_sz, n_emb, ctx_sz)\n",
    "        self.ffwd = FeedForward(n_emb)\n",
    "    def forward(self, x):\n",
    "        x = self.sa(x)\n",
    "        x = self.ffwd(x)\n",
    "        return x\n",
    "\n",
    "class TransformerLanguageModel4(NN.Module):\n",
    "    def __init__(self, n_blocks, n_heads, voc_sz, n_emb, ctx_sz):\n",
    "        super().__init__()\n",
    "        self.ctx_sz = ctx_sz\n",
    "        self.tok_emb_table = NN.Embedding(voc_sz, n_emb)\n",
    "        self.pos_emb_table = NN.Embedding(ctx_sz, n_emb)\n",
    "        self.blocks = NN.Sequential(*[TransformerBlock(n_heads, n_emb, ctx_sz)] * n_blocks)\n",
    "        self.lm_head = NN.Linear(n_emb, voc_sz)\n",
    "    def forward(self, idx, targets=None):\n",
    "        B, T = idx.shape        \n",
    "        tok_emb = self.tok_emb_table(idx)\n",
    "        pos_emb = self.pos_emb_table(torch.arange(T, device=device))\n",
    "        x = tok_emb + pos_emb\n",
    "        x = self.blocks(x)\n",
    "        logits = self.lm_head(x)\n",
    "        if targets is None:\n",
    "            loss = None\n",
    "        else:\n",
    "            B, T, C = logits.shape\n",
    "            logits = logits.view(B * T, C)\n",
    "            loss = F.cross_entropy(logits, targets.view(B * T))        \n",
    "        return logits, loss\n",
    "    def generate(self, idx, max_new_tok):\n",
    "        for _ in range(max_new_tok):\n",
    "            idx_crop = idx[:, -self.ctx_sz:]\n",
    "            logits, _ = self(idx_crop)\n",
    "            probs = F.softmax(logits[:, -1, :], dim=1)\n",
    "            idx_nxt = torch.multinomial(probs, num_samples=1)\n",
    "            idx = torch.cat((idx, idx_nxt), dim=1)\n",
    "        return idx"
   ]
  },
  {
   "cell_type": "code",
   "execution_count": 35,
   "id": "ce125e9e-766e-49ff-abfb-35c413a8ce70",
   "metadata": {},
   "outputs": [
    {
     "name": "stdout",
     "output_type": "stream",
     "text": [
      "tensor(4.1928)\n",
      "tensor(2.9585)\n",
      "tensor(2.6644)\n",
      "tensor(2.5452)\n",
      "tensor(2.4645)\n",
      "tensor(2.4109)\n",
      "tensor(2.3819)\n",
      "tensor(2.3518)\n",
      "tensor(2.3402)\n",
      "tensor(2.3209)\n",
      "tensor(2.2947)\n",
      "tensor(2.3007)\n",
      "tensor(2.2831)\n",
      "tensor(2.2732)\n",
      "tensor(2.2651)\n",
      "tensor(2.2556)\n",
      "tensor(2.2387)\n",
      "tensor(2.2399)\n",
      "tensor(2.2251)\n",
      "tensor(2.2194)\n",
      "tensor(2.2179)\n",
      "tensor(2.2100)\n",
      "tensor(2.2006)\n",
      "tensor(2.2052)\n",
      "tensor(2.1865)\n"
     ]
    },
    {
     "data": {
      "text/plain": [
       "[<matplotlib.lines.Line2D at 0x2396fda5940>]"
      ]
     },
     "execution_count": 35,
     "metadata": {},
     "output_type": "execute_result"
    },
    {
     "data": {
      "image/png": "[encoded data removed]",
      "text/plain": [
       "<Figure size 640x480 with 1 Axes>"
      ]
     },
     "metadata": {},
     "output_type": "display_data"
    }
   ],
   "source": [
    "N_EMB = 32\n",
    "model = TransformerLanguageModel4(3, 4, N, N_EMB, CTX_SZ).to(device)\n",
    "optimizer = torch.optim.AdamW(model.parameters(), lr=1e-3)\n",
    "\n",
    "BATCH_SZ = 32\n",
    "lossi = {'trn':[], 'val':[]}\n",
    "for i in range(25000):\n",
    "    xb, yb = xs_trn[i*BATCH_SZ : (i+1)*BATCH_SZ], ys_trn[i*BATCH_SZ : (i+1)*BATCH_SZ]\n",
    "    logits, loss = model(xb, yb)\n",
    "    optimizer.zero_grad(set_to_none=True)\n",
    "    loss.backward()\n",
    "    optimizer.step()\n",
    "    if i % EVAL_INT == 0:\n",
    "        est = est_loss(model, {'trn': [xs_trn, ys_trn], 'val': [xs_val, ys_val]})\n",
    "        lossi['trn'].append(est['trn'])\n",
    "        lossi['val'].append(est['val'])\n",
    "        print(est['trn'])\n",
    "plt.plot(lossi['trn'])\n",
    "plt.plot(lossi['val'])"
   ]
  },
  {
   "cell_type": "code",
   "execution_count": null,
   "id": "92b9556f-0e1b-472a-af7f-eb420a3e1706",
   "metadata": {},
   "outputs": [],
   "source": []
  }
 ],
 "metadata": {
  "kernelspec": {
   "display_name": "Python 3 (ipykernel)",
   "language": "python",
   "name": "python3"
  },
  "language_info": {
   "codemirror_mode": {
    "name": "ipython",
    "version": 3
   },
   "file_extension": ".py",
   "mimetype": "text/x-python",
   "name": "python",
   "nbconvert_exporter": "python",
   "pygments_lexer": "ipython3",
   "version": "3.12.1"
  }
 },
 "nbformat": 4,
 "nbformat_minor": 5
}
