{
 "cells": [
  {
   "cell_type": "code",
   "execution_count": 1,
   "id": "045c95af-9aac-46a0-b9b0-8e2bfec14e4b",
   "metadata": {},
   "outputs": [],
   "source": [
    "import torch\n",
    "import matplotlib.pyplot as plt\n",
    "import torch.nn.functional as F\n",
    "import random\n",
    "\n",
    "device = 'cuda' if torch.cuda.is_available() else 'cpu'"
   ]
  },
  {
   "cell_type": "code",
   "execution_count": 2,
   "id": "8b4c3596-addd-40ce-8345-4b1b0305679d",
   "metadata": {
    "editable": true,
    "slideshow": {
     "slide_type": ""
    },
    "tags": []
   },
   "outputs": [],
   "source": [
    "class Dataset:\n",
    "    def __init__(self, filepath, CTX_SZ):\n",
    "        self.words = [w.lower().strip() for w in open(filepath, \"r\", encoding=\"utf8\").readlines()]\n",
    "        self.letters = list(set(''.join(self.words)))\n",
    "        self.chtoi = { ch:(i+1) for i, ch in enumerate(self.letters) }\n",
    "        self.chtoi['.'] = 0\n",
    "        self.itoch = { i:ch for ch, i in self.chtoi.items() }\n",
    "        self.N_SYM = len(self.chtoi)\n",
    "        \n",
    "        self.CTX_SZ = CTX_SZ\n",
    "        self.x, self.y = [], []\n",
    "        for w in self.words:\n",
    "            ctx = [0] * self.CTX_SZ\n",
    "            for ch in w + '.':\n",
    "                idx = self.chtoi[ch]\n",
    "                self.x.append(ctx)\n",
    "                self.y.append(idx)\n",
    "                ctx = ctx[1:] + [idx]\n",
    "        self.N_SAMPLES = len(self.x)\n",
    "        \n",
    "        tmp = list(zip(self.x, self.y))\n",
    "        random.shuffle(tmp)\n",
    "        self.x, self.y = zip(*tmp)\n",
    "        self.x, self.y = list(self.x), list(self.y)\n",
    "        \n",
    "class MLP(torch.nn.Module):\n",
    "    def __init__(self, N_SYM, CTX_SZ, EMB_SZ, HID_SZ):\n",
    "        super().__init__()\n",
    "        self.CTX_SZ = CTX_SZ\n",
    "        self.EMB_SZ = EMB_SZ\n",
    "        self.HID_SZ = HID_SZ\n",
    "        self.C = torch.randn((N_SYM, EMB_SZ)).to(device)\n",
    "        self.W1 = torch.empty((EMB_SZ * CTX_SZ, HID_SZ)).to(device)\n",
    "        torch.nn.init.kaiming_normal_(self.W1, nonlinearity='tanh')\n",
    "        self.b1 = torch.randn(HID_SZ).to(device) * 0.01\n",
    "        self.W2 = torch.randn((HID_SZ, N_SYM)).to(device) * 0.01\n",
    "        self.b2 = torch.randn(N_SYM).to(device) * 0       \n",
    "        self.params = [self.C, self.W1, self.b1, self.W2, self.b2]\n",
    "        for p in self.params:\n",
    "            p.requires_grad = True\n",
    "\n",
    "    def forward(self, x, bix = None):\n",
    "        batch = (self.C[x] if bix is None else self.C[x[bix]])\n",
    "        emb = (batch.view(-1, self.EMB_SZ * self.CTX_SZ))\n",
    "        h = (torch.tanh(emb @ self.W1 + self.b1))\n",
    "        logits = (h @ self.W2 + self.b2)\n",
    "        return logits\n",
    "\n",
    "    def scatter_plot_C(self):        \n",
    "        plt.figure(figsize=(8,8))\n",
    "        plt.scatter(model.C[:,0].data, model.C[:,1].data, s=200)\n",
    "        for i in range(model.C.shape[0]):\n",
    "            plt.text(model.C[i,0].item(), model.C[i,1].item(), d.itoch[i], ha='center', va='center', color='white')\n",
    "        return plt"
   ]
  },
  {
   "cell_type": "code",
   "execution_count": 3,
   "id": "00f5f0a6-c135-4bb0-8276-444d6170077a",
   "metadata": {},
   "outputs": [],
   "source": [
    "d = Dataset(\"swears.txt\", CTX_SZ = 3)\n",
    "\n",
    "splt1 = int(d.N_SAMPLES * 0.8)\n",
    "splt2 = int(d.N_SAMPLES * 0.9)\n",
    "x_trn, y_trn = torch.tensor(d.x[:splt1]).to(device), torch.tensor(d.y[:splt1]).to(device)\n",
    "x_dev, y_dev = torch.tensor(d.x[splt1:splt2]).to(device), torch.tensor(d.y[splt1:splt2]).to(device)\n",
    "x_tst, y_tst = torch.tensor(d.x[splt2:]).to(device), torch.tensor(d.y[splt2:]).to(device)\n",
    "\n",
    "model = MLP(d.N_SYM, d.CTX_SZ, EMB_SZ=2, HID_SZ=100)"
   ]
  },
  {
   "cell_type": "code",
   "execution_count": 4,
   "id": "2485c332-f87d-4497-ba8e-31e257d4e05c",
   "metadata": {},
   "outputs": [
    {
     "ename": "RuntimeError",
     "evalue": "indices should be either on cpu or on the same device as the indexed tensor (cpu)",
     "output_type": "error",
     "traceback": [
      "\u001b[1;31m---------------------------------------------------------------------------\u001b[0m",
      "\u001b[1;31mRuntimeError\u001b[0m                              Traceback (most recent call last)",
      "Cell \u001b[1;32mIn[4], line 6\u001b[0m\n\u001b[0;32m      4\u001b[0m         loss \u001b[38;5;241m=\u001b[39m F\u001b[38;5;241m.\u001b[39mcross_entropy(logits, y)\n\u001b[0;32m      5\u001b[0m         \u001b[38;5;28mprint\u001b[39m(loss\u001b[38;5;241m.\u001b[39mitem())\n\u001b[1;32m----> 6\u001b[0m \u001b[43meval_loss\u001b[49m\u001b[43m(\u001b[49m\u001b[43mx_trn\u001b[49m\u001b[43m,\u001b[49m\u001b[43m \u001b[49m\u001b[43my_trn\u001b[49m\u001b[43m)\u001b[49m\n\u001b[0;32m      7\u001b[0m eval_loss(x_dev, y_dev)\n",
      "Cell \u001b[1;32mIn[4], line 3\u001b[0m, in \u001b[0;36meval_loss\u001b[1;34m(x, y)\u001b[0m\n\u001b[0;32m      1\u001b[0m \u001b[38;5;28;01mdef\u001b[39;00m \u001b[38;5;21meval_loss\u001b[39m(x, y):\n\u001b[0;32m      2\u001b[0m     \u001b[38;5;28;01mwith\u001b[39;00m torch\u001b[38;5;241m.\u001b[39mno_grad():\n\u001b[1;32m----> 3\u001b[0m         logits \u001b[38;5;241m=\u001b[39m \u001b[43mmodel\u001b[49m\u001b[43m(\u001b[49m\u001b[43mx\u001b[49m\u001b[43m)\u001b[49m\n\u001b[0;32m      4\u001b[0m         loss \u001b[38;5;241m=\u001b[39m F\u001b[38;5;241m.\u001b[39mcross_entropy(logits, y)\n\u001b[0;32m      5\u001b[0m         \u001b[38;5;28mprint\u001b[39m(loss\u001b[38;5;241m.\u001b[39mitem())\n",
      "File \u001b[1;32m~\\AppData\\Roaming\\Python\\Python312\\site-packages\\torch\\nn\\modules\\module.py:1511\u001b[0m, in \u001b[0;36mModule._wrapped_call_impl\u001b[1;34m(self, *args, **kwargs)\u001b[0m\n\u001b[0;32m   1509\u001b[0m     \u001b[38;5;28;01mreturn\u001b[39;00m \u001b[38;5;28mself\u001b[39m\u001b[38;5;241m.\u001b[39m_compiled_call_impl(\u001b[38;5;241m*\u001b[39margs, \u001b[38;5;241m*\u001b[39m\u001b[38;5;241m*\u001b[39mkwargs)  \u001b[38;5;66;03m# type: ignore[misc]\u001b[39;00m\n\u001b[0;32m   1510\u001b[0m \u001b[38;5;28;01melse\u001b[39;00m:\n\u001b[1;32m-> 1511\u001b[0m     \u001b[38;5;28;01mreturn\u001b[39;00m \u001b[38;5;28;43mself\u001b[39;49m\u001b[38;5;241;43m.\u001b[39;49m\u001b[43m_call_impl\u001b[49m\u001b[43m(\u001b[49m\u001b[38;5;241;43m*\u001b[39;49m\u001b[43margs\u001b[49m\u001b[43m,\u001b[49m\u001b[43m \u001b[49m\u001b[38;5;241;43m*\u001b[39;49m\u001b[38;5;241;43m*\u001b[39;49m\u001b[43mkwargs\u001b[49m\u001b[43m)\u001b[49m\n",
      "File \u001b[1;32m~\\AppData\\Roaming\\Python\\Python312\\site-packages\\torch\\nn\\modules\\module.py:1520\u001b[0m, in \u001b[0;36mModule._call_impl\u001b[1;34m(self, *args, **kwargs)\u001b[0m\n\u001b[0;32m   1515\u001b[0m \u001b[38;5;66;03m# If we don't have any hooks, we want to skip the rest of the logic in\u001b[39;00m\n\u001b[0;32m   1516\u001b[0m \u001b[38;5;66;03m# this function, and just call forward.\u001b[39;00m\n\u001b[0;32m   1517\u001b[0m \u001b[38;5;28;01mif\u001b[39;00m \u001b[38;5;129;01mnot\u001b[39;00m (\u001b[38;5;28mself\u001b[39m\u001b[38;5;241m.\u001b[39m_backward_hooks \u001b[38;5;129;01mor\u001b[39;00m \u001b[38;5;28mself\u001b[39m\u001b[38;5;241m.\u001b[39m_backward_pre_hooks \u001b[38;5;129;01mor\u001b[39;00m \u001b[38;5;28mself\u001b[39m\u001b[38;5;241m.\u001b[39m_forward_hooks \u001b[38;5;129;01mor\u001b[39;00m \u001b[38;5;28mself\u001b[39m\u001b[38;5;241m.\u001b[39m_forward_pre_hooks\n\u001b[0;32m   1518\u001b[0m         \u001b[38;5;129;01mor\u001b[39;00m _global_backward_pre_hooks \u001b[38;5;129;01mor\u001b[39;00m _global_backward_hooks\n\u001b[0;32m   1519\u001b[0m         \u001b[38;5;129;01mor\u001b[39;00m _global_forward_hooks \u001b[38;5;129;01mor\u001b[39;00m _global_forward_pre_hooks):\n\u001b[1;32m-> 1520\u001b[0m     \u001b[38;5;28;01mreturn\u001b[39;00m \u001b[43mforward_call\u001b[49m\u001b[43m(\u001b[49m\u001b[38;5;241;43m*\u001b[39;49m\u001b[43margs\u001b[49m\u001b[43m,\u001b[49m\u001b[43m \u001b[49m\u001b[38;5;241;43m*\u001b[39;49m\u001b[38;5;241;43m*\u001b[39;49m\u001b[43mkwargs\u001b[49m\u001b[43m)\u001b[49m\n\u001b[0;32m   1522\u001b[0m \u001b[38;5;28;01mtry\u001b[39;00m:\n\u001b[0;32m   1523\u001b[0m     result \u001b[38;5;241m=\u001b[39m \u001b[38;5;28;01mNone\u001b[39;00m\n",
      "Cell \u001b[1;32mIn[2], line 44\u001b[0m, in \u001b[0;36mMLP.forward\u001b[1;34m(self, x, bix)\u001b[0m\n\u001b[0;32m     43\u001b[0m \u001b[38;5;28;01mdef\u001b[39;00m \u001b[38;5;21mforward\u001b[39m(\u001b[38;5;28mself\u001b[39m, x, bix \u001b[38;5;241m=\u001b[39m \u001b[38;5;28;01mNone\u001b[39;00m):\n\u001b[1;32m---> 44\u001b[0m     batch \u001b[38;5;241m=\u001b[39m (\u001b[38;5;28;43mself\u001b[39;49m\u001b[38;5;241;43m.\u001b[39;49m\u001b[43mC\u001b[49m\u001b[43m[\u001b[49m\u001b[43mx\u001b[49m\u001b[43m]\u001b[49m \u001b[38;5;28;01mif\u001b[39;00m bix \u001b[38;5;129;01mis\u001b[39;00m \u001b[38;5;28;01mNone\u001b[39;00m \u001b[38;5;28;01melse\u001b[39;00m \u001b[38;5;28mself\u001b[39m\u001b[38;5;241m.\u001b[39mC[x[bix]])\n\u001b[0;32m     45\u001b[0m     emb \u001b[38;5;241m=\u001b[39m (batch\u001b[38;5;241m.\u001b[39mview(\u001b[38;5;241m-\u001b[39m\u001b[38;5;241m1\u001b[39m, \u001b[38;5;28mself\u001b[39m\u001b[38;5;241m.\u001b[39mEMB_SZ \u001b[38;5;241m*\u001b[39m \u001b[38;5;28mself\u001b[39m\u001b[38;5;241m.\u001b[39mCTX_SZ))\n\u001b[0;32m     46\u001b[0m     h \u001b[38;5;241m=\u001b[39m (torch\u001b[38;5;241m.\u001b[39mtanh(emb \u001b[38;5;241m@\u001b[39m \u001b[38;5;28mself\u001b[39m\u001b[38;5;241m.\u001b[39mW1 \u001b[38;5;241m+\u001b[39m \u001b[38;5;28mself\u001b[39m\u001b[38;5;241m.\u001b[39mb1))\n",
      "\u001b[1;31mRuntimeError\u001b[0m: indices should be either on cpu or on the same device as the indexed tensor (cpu)"
     ]
    }
   ],
   "source": [
    "def eval_loss(x, y):\n",
    "    with torch.no_grad():\n",
    "        logits = model(x)\n",
    "        loss = F.cross_entropy(logits, y)\n",
    "        print(loss.item())\n",
    "eval_loss(x_trn, y_trn)\n",
    "eval_loss(x_dev, y_dev)"
   ]
  },
  {
   "cell_type": "code",
   "execution_count": 5,
   "id": "f8a7de5b-35da-4469-88fd-768fe2336109",
   "metadata": {},
   "outputs": [
    {
     "name": "stdout",
     "output_type": "stream",
     "text": [
      "3.5781948566436768\n",
      "1.0098764896392822\n",
      "0.839289128780365\n",
      "0.88957679271698\n",
      "0.9032066464424133\n",
      "0.8902899622917175\n",
      "0.7739465236663818\n",
      "0.720439076423645\n",
      "0.7394052743911743\n",
      "0.7081738710403442\n"
     ]
    }
   ],
   "source": [
    "ITS = 100000\n",
    "MB_SZ = 128\n",
    "\n",
    "optimizer = torch.optim.Adam(model.params)\n",
    "\n",
    "for i in range(ITS):\n",
    "    bix = torch.randint(0, x_trn.shape[0], (MB_SZ,))\n",
    "    logits = model(x_trn, bix)\n",
    "    loss = F.cross_entropy(logits, y_trn[bix])\n",
    "    loss.backward()\n",
    "    optimizer.step()\n",
    "    optimizer.zero_grad()\n",
    "    if i % 10000 == 0:\n",
    "        print(loss.item())"
   ]
  },
  {
   "cell_type": "code",
   "execution_count": 6,
   "id": "8c308001-3f93-43a2-9e54-3c7f8af18e72",
   "metadata": {},
   "outputs": [
    {
     "name": "stdout",
     "output_type": "stream",
     "text": [
      "0.8066024780273438\n",
      "1.0992926359176636\n",
      "1.0790640115737915\n"
     ]
    },
    {
     "data": {
      "image/png": "[encoded data removed]",
      "text/plain": [
       "<Figure size 800x800 with 1 Axes>"
      ]
     },
     "metadata": {},
     "output_type": "display_data"
    }
   ],
   "source": [
    "eval_loss(x_trn, y_trn)\n",
    "eval_loss(x_dev, y_dev)\n",
    "eval_loss(x_tst, y_tst)\n",
    "if model.EMB_SZ == 2:\n",
    "    model.scatter_plot_C().show()"
   ]
  },
  {
   "cell_type": "code",
   "execution_count": 7,
   "id": "5ff0adef-25b7-4b16-b00b-ef5e494a7938",
   "metadata": {},
   "outputs": [
    {
     "name": "stdout",
     "output_type": "stream",
     "text": [
      "примандить\n",
      "пропиздушиваться\n",
      "прихуякиваться\n",
      "схуяривать\n",
      "попиздяшиваться\n",
      "выссать\n",
      "оться\n",
      "попиздошиться\n",
      "оттраятей\n",
      "прихуяшиться\n",
      "отхуяшиваться\n",
      "захуяривать\n",
      "отпиздюрить\n",
      "одоболчо\n",
      "попиздрочить\n",
      "пот\n",
      "съенье\n",
      "вздрючиться\n",
      "шот\n",
      "пердеться\n",
      "допиздячивать\n",
      "залупу\n",
      "цахуякивать\n",
      "спвлий\n",
      "пропизденосеть\n",
      "отхуяриваться\n",
      "стеенуо\n",
      "захуякаться\n",
      "поебаливать\n",
      "допиздячиваться\n"
     ]
    }
   ],
   "source": [
    "for _ in range(30):\n",
    "    ctx = [0] * d.CTX_SZ\n",
    "    word = ''\n",
    "    while True:        \n",
    "        logits = model(torch.tensor(ctx))\n",
    "        probs = F.softmax(logits, dim=1)        \n",
    "        idx = torch.multinomial(probs, num_samples=1, replacement=True).item()\n",
    "        if idx == 0:\n",
    "            break\n",
    "        ctx = ctx[1:] + [idx]\n",
    "        word += d.itoch[idx]\n",
    "    print(word)\n"
   ]
  },
  {
   "cell_type": "code",
   "execution_count": null,
   "id": "d51a472f-1bfd-4e42-8c3f-e4b40684859a",
   "metadata": {},
   "outputs": [],
   "source": []
  }
 ],
 "metadata": {
  "kernelspec": {
   "display_name": "Python 3 (ipykernel)",
   "language": "python",
   "name": "python3"
  },
  "language_info": {
   "codemirror_mode": {
    "name": "ipython",
    "version": 3
   },
   "file_extension": ".py",
   "mimetype": "text/x-python",
   "name": "python",
   "nbconvert_exporter": "python",
   "pygments_lexer": "ipython3",
   "version": "3.12.1"
  }
 },
 "nbformat": 4,
 "nbformat_minor": 5
}
