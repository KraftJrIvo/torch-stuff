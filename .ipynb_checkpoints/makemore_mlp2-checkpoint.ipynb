{
 "cells": [
  {
   "cell_type": "code",
   "execution_count": 1,
   "id": "a085c791-939a-4508-9e0b-f6930a7f9d7a",
   "metadata": {},
   "outputs": [],
   "source": [
    "WORDS_FILE = 'names.txt'\n",
    "words = open(WORDS_FILE, 'r', encoding=\"utf8\").read().splitlines()\n",
    "words = [w.lower() for w in words]\n",
    "words = [w for w in words if (len(w) > 0)]\n",
    "words[:10]\n",
    "letters = sorted(list(set(''.join(words))))\n",
    "chtoi = {ch:(i+1) for i,ch in enumerate(letters)}\n",
    "chtoi['.'] = 0\n",
    "itoch = {i:ch for ch,i in chtoi.items()}\n",
    "N = len(letters) + 1"
   ]
  },
  {
   "cell_type": "code",
   "execution_count": 2,
   "id": "e3851be3-6bf6-4cb7-a856-15fa56656d07",
   "metadata": {},
   "outputs": [],
   "source": [
    "import torch\n",
    "import torch.nn.functional as F\n",
    "import matplotlib.pyplot as plt\n",
    "%matplotlib inline\n",
    "\n",
    "CTX_SZ = 3\n",
    "\n",
    "def make_dataset(words):\n",
    "    x, y = [], []\n",
    "    for w in words:        \n",
    "        ctx = [0] * CTX_SZ\n",
    "        for ch in w + '.':\n",
    "            idx = chtoi[ch]\n",
    "            x.append(ctx)\n",
    "            y.append(idx)\n",
    "            ctx = ctx[1:] + [idx]\n",
    "    x = torch.tensor(x)\n",
    "    y = torch.tensor(y)\n",
    "    return x, y\n",
    "\n",
    "import random\n",
    "random.seed(244)\n",
    "random.shuffle(words)\n",
    "n1 = int(0.8 * len(words))\n",
    "n2 = int(0.9 * len(words))\n",
    "\n",
    "x_trn, y_trn = make_dataset(words[:n1])\n",
    "x_dev, y_dev = make_dataset(words[n1:n2])\n",
    "x_tst, y_tst = make_dataset(words[n2:])\n",
    "\n",
    "N_SAMPLES_TRN = x_trn.shape[0]\n",
    "N_SAMPLES_DEV = x_dev.shape[0]\n",
    "N_SAMPLES_TST = x_tst.shape[0]"
   ]
  },
  {
   "cell_type": "code",
   "execution_count": 3,
   "id": "12e507ae-249c-4954-8ca0-78e23d1a36d3",
   "metadata": {},
   "outputs": [],
   "source": [
    "class Linear:\n",
    "    def __init__(self, fan_in, fan_out, bias=True):\n",
    "        self.weights = torch.randn((fan_in, fan_out)) / fan_in**0.5 # kaiming init\n",
    "        self.bias = torch.randn(fan_out) if bias else None\n",
    "    def __call__(self, x):\n",
    "        self.out = x @ self.weights\n",
    "        if self.bias is not None:\n",
    "            self.out += self.bias\n",
    "        return self.out\n",
    "    def parameters(self):\n",
    "        return [self.weights] + ([] if self.bias is None else [self.bias])\n",
    "\n",
    "class BatchNorm1d:\n",
    "    def __init__(self, dim, eps=1e-5, momentum=0.1):\n",
    "        self.eps = eps\n",
    "        self.momentum = momentum\n",
    "        self.training = True\n",
    "        # parameters\n",
    "        self.gamma = torch.ones(dim)\n",
    "        self.beta  = torch.zeros(dim)\n",
    "        # buffers\n",
    "        self.running_var  = torch.ones(dim)\n",
    "        self.running_mean = torch.zeros(dim)\n",
    "    def __call__(self, x):\n",
    "        if self.training:\n",
    "            xmean = x.mean(0, keepdim=True) # batch mean\n",
    "            xvar  = x.var(0, keepdim=True) # batch variance\n",
    "        else:\n",
    "            xmean = self.running_mean\n",
    "            xvar  = self.running_var\n",
    "        xhat = (x - xmean) / torch.sqrt(xvar + self.eps) # normalize to unit variance\n",
    "        self.out = self.gamma * xhat + self.beta\n",
    "        # update the buffers\n",
    "        if self.training:\n",
    "            with torch.no_grad():\n",
    "                self.running_mean = (1 - self.momentum) * self.running_mean + self.momentum * xmean\n",
    "                self.running_var = (1 - self.momentum) * self.running_var + self.momentum * xvar\n",
    "        return self.out\n",
    "    def parameters(self):\n",
    "        return [self.gamma, self.beta]\n",
    "\n",
    "class Tanh:\n",
    "    def __call__(self, x):\n",
    "        self.out = torch.tanh(x)\n",
    "        return self.out\n",
    "    def parameters(self):\n",
    "        return []\n",
    "\n",
    "class Embedding:\n",
    "    def __init__(self, n, dim):\n",
    "        self.table = torch.randn((n, dim))\n",
    "    def __call__(self, IX):\n",
    "        self.out = self.table[IX]\n",
    "        return self.out\n",
    "    def parameters(self):\n",
    "        return [self.table]\n",
    "        \n",
    "class Flatten:\n",
    "    def __call__(self, x):\n",
    "        self.out = x.view(x.shape[0], -1)\n",
    "        return self.out\n",
    "    def parameters(self):\n",
    "        return []\n",
    "\n",
    "class Sequential:\n",
    "    def __init__(self, layers):\n",
    "        self.layers = layers\n",
    "\n",
    "    def __call__(self, x):\n",
    "        for layer in self.layers:\n",
    "            x = layer(x)\n",
    "        self.out = x\n",
    "        return self.out\n",
    "\n",
    "    def parameters(self):\n",
    "        return [p for layer in self.layers for p in layer.parameters()]"
   ]
  },
  {
   "cell_type": "code",
   "execution_count": 4,
   "id": "b2b09793-0f60-4da9-8a7d-81025a25c350",
   "metadata": {},
   "outputs": [],
   "source": [
    "HID_SZ = 200\n",
    "EMB_DIM = 10\n",
    "\n",
    "model = Sequential([\n",
    "    Embedding(N, EMB_DIM),\n",
    "    Flatten(),\n",
    "    Linear(EMB_DIM * CTX_SZ, HID_SZ, bias=False), BatchNorm1d(HID_SZ), Tanh(),\n",
    "    Linear(HID_SZ, N)\n",
    "])\n",
    "with torch.no_grad():\n",
    "    model.layers[-1].weights *= 0.1 # less confident init\n",
    "\n",
    "parameters = model.parameters()\n",
    "for p in parameters:\n",
    "    p.requires_grad = True"
   ]
  },
  {
   "cell_type": "code",
   "execution_count": 5,
   "id": "50d16a9f-5c3d-4c65-9ce3-284f0b221271",
   "metadata": {},
   "outputs": [],
   "source": [
    "ITS = 200000\n",
    "BATCH_SZ = 32\n",
    "\n",
    "LR = 0.1\n",
    "losses = []\n",
    "\n",
    "def eval_loss(x, y, batch):\n",
    "    logits = model(x if batch is None else x[batch])\n",
    "    loss = F.cross_entropy(logits, y if batch is None else y[batch])\n",
    "    return loss"
   ]
  },
  {
   "cell_type": "code",
   "execution_count": 6,
   "id": "9c3aaad5-66a7-443f-a7b3-342639ae7f8a",
   "metadata": {},
   "outputs": [
    {
     "name": "stdout",
     "output_type": "stream",
     "text": [
      "      0/ 200000: 3.8316\n",
      "  10000/ 200000: 2.7523\n",
      "  20000/ 200000: 2.0369\n",
      "  30000/ 200000: 2.1866\n",
      "  40000/ 200000: 2.2494\n",
      "  50000/ 200000: 2.1469\n",
      "  60000/ 200000: 2.5404\n",
      "  70000/ 200000: 2.0338\n",
      "  80000/ 200000: 1.8227\n",
      "  90000/ 200000: 2.4649\n",
      " 100000/ 200000: 2.2693\n",
      " 110000/ 200000: 2.2700\n",
      " 120000/ 200000: 1.9661\n",
      " 130000/ 200000: 2.6211\n",
      " 140000/ 200000: 2.2478\n",
      " 150000/ 200000: 2.0033\n",
      " 160000/ 200000: 1.9126\n",
      " 170000/ 200000: 1.8458\n",
      " 180000/ 200000: 2.0978\n",
      " 190000/ 200000: 2.0409\n"
     ]
    }
   ],
   "source": [
    "for l in model.layers:\n",
    "    l.training = True\n",
    "\n",
    "for i in range(ITS):\n",
    "    bix = torch.randint(0, N_SAMPLES_TRN, (BATCH_SZ,))\n",
    "    loss = eval_loss(x_trn, y_trn, bix)\n",
    "    \n",
    "    for p in parameters:\n",
    "        p.grad = None\n",
    "    loss.backward()\n",
    "    \n",
    "    lr = (LR/10) if (i > 3 * ITS / 4) else LR\n",
    "    for p in parameters:\n",
    "        p.data -= lr * p.grad\n",
    "        \n",
    "    if i % 10000 == 0:\n",
    "        print(f'{i:7d}/{ITS:7d}: {loss.item():.4f}')\n",
    "    losses.append(loss.log10().item())\n",
    "\n",
    "for l in model.layers:\n",
    "    l.training = False"
   ]
  },
  {
   "cell_type": "code",
   "execution_count": 7,
   "id": "2c788b11-e060-49b5-ac08-35a9123c5cfe",
   "metadata": {},
   "outputs": [
    {
     "data": {
      "text/plain": [
       "[<matplotlib.lines.Line2D at 0x1b0b4c93380>]"
      ]
     },
     "execution_count": 7,
     "metadata": {},
     "output_type": "execute_result"
    },
    {
     "data": {
      "image/png": "[encoded data removed]",
      "text/plain": [
       "<Figure size 640x480 with 1 Axes>"
      ]
     },
     "metadata": {},
     "output_type": "display_data"
    }
   ],
   "source": [
    "plt.plot(torch.tensor(losses).view(-1, 1000).mean(1))"
   ]
  },
  {
   "cell_type": "code",
   "execution_count": 8,
   "id": "f02482f1-5bd4-4e71-9192-f20132fa59f8",
   "metadata": {},
   "outputs": [
    {
     "name": "stdout",
     "output_type": "stream",
     "text": [
      "2.0576086044311523\n",
      "2.092048168182373\n"
     ]
    }
   ],
   "source": [
    "print(eval_loss(x_trn, y_trn, None).item())\n",
    "print(eval_loss(x_dev, y_dev, None).item())"
   ]
  },
  {
   "cell_type": "code",
   "execution_count": 9,
   "id": "d55e3684-0e19-40f8-96b2-aaea3f76af1c",
   "metadata": {},
   "outputs": [
    {
     "name": "stdout",
     "output_type": "stream",
     "text": [
      "junide\n",
      "jakaria\n",
      "presayon\n",
      "nai\n",
      "jiin\n",
      "tolian\n",
      "juel\n",
      "kalania\n",
      "yanilena\n",
      "jadeyaine\n",
      "imo\n",
      "dsejaiely\n",
      "arterinvelleryfon\n",
      "maj\n",
      "ponishiah\n",
      "jaylinora\n",
      "yarion\n",
      "kaelandreed\n",
      "miki\n",
      "wyn\n"
     ]
    }
   ],
   "source": [
    "g = torch.Generator().manual_seed(2147483647)\n",
    "idx = 0\n",
    "for k in range(20):\n",
    "    word = ''\n",
    "    ctx = [0] * CTX_SZ\n",
    "    while True:\n",
    "        logits = model(torch.tensor([ctx]))\n",
    "        probs = F.softmax(logits, dim=1)\n",
    "        idx = torch.multinomial(probs, num_samples=1, replacement=True, generator=g).item()\n",
    "        ctx = ctx[1:] + [idx]\n",
    "        if idx == 0:\n",
    "            print(word)\n",
    "            break\n",
    "        word += itoch[idx]"
   ]
  },
  {
   "cell_type": "code",
   "execution_count": null,
   "id": "6d753796-21ad-4313-a8e3-89525e52986d",
   "metadata": {},
   "outputs": [],
   "source": []
  }
 ],
 "metadata": {
  "kernelspec": {
   "display_name": "Python 3 (ipykernel)",
   "language": "python",
   "name": "python3"
  },
  "language_info": {
   "codemirror_mode": {
    "name": "ipython",
    "version": 3
   },
   "file_extension": ".py",
   "mimetype": "text/x-python",
   "name": "python",
   "nbconvert_exporter": "python",
   "pygments_lexer": "ipython3",
   "version": "3.12.1"
  }
 },
 "nbformat": 4,
 "nbformat_minor": 5
}
