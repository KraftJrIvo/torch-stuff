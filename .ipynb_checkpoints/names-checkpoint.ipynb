{
 "cells": [
  {
   "cell_type": "code",
   "execution_count": null,
   "id": "129c46ae-3f36-4f86-9179-718cc868e2f5",
   "metadata": {},
   "outputs": [],
   "source": [
    "#WORDS_FILE = 'names.txt'\n",
    "WORDS_FILE = 'names.txt'"
   ]
  },
  {
   "cell_type": "code",
   "execution_count": 2,
   "id": "1a32bac2-9e79-4ad8-b63d-bbd0d8100fb5",
   "metadata": {},
   "outputs": [
    {
     "data": {
      "text/plain": [
       "['Августа',\n",
       " 'Августина',\n",
       " 'Авдотья',\n",
       " 'Аврелия',\n",
       " 'Аврея',\n",
       " 'Аврора',\n",
       " 'Агапа',\n",
       " 'Агапия',\n",
       " 'Агарь',\n",
       " 'Агата']"
      ]
     },
     "execution_count": 2,
     "metadata": {},
     "output_type": "execute_result"
    }
   ],
   "source": [
    "words = open('names.txt', 'r', encoding=\"utf8\").read().splitlines()\n",
    "names[:10]"
   ]
  },
  {
   "cell_type": "code",
   "execution_count": 3,
   "id": "397b95c9-45e3-4913-ac03-c8473baefc8d",
   "metadata": {},
   "outputs": [
    {
     "data": {
      "text/plain": [
       "938"
      ]
     },
     "execution_count": 3,
     "metadata": {},
     "output_type": "execute_result"
    }
   ],
   "source": [
    "len(names)"
   ]
  },
  {
   "cell_type": "code",
   "execution_count": 5,
   "id": "34d87302-cccc-4e47-8c2b-f45212cc277f",
   "metadata": {},
   "outputs": [
    {
     "data": {
      "text/plain": [
       "2"
      ]
     },
     "execution_count": 5,
     "metadata": {},
     "output_type": "execute_result"
    }
   ],
   "source": [
    "min(len(n) for n in names)"
   ]
  },
  {
   "cell_type": "code",
   "execution_count": 6,
   "id": "a0b14e0a-e941-4162-acdf-ed9a22a67dad",
   "metadata": {},
   "outputs": [
    {
     "data": {
      "text/plain": [
       "12"
      ]
     },
     "execution_count": 6,
     "metadata": {},
     "output_type": "execute_result"
    }
   ],
   "source": [
    "max(len(n) for n in names)"
   ]
  },
  {
   "cell_type": "code",
   "execution_count": null,
   "id": "b1ed2682-c4c0-4dfd-a5a2-fbe4dcbae0bb",
   "metadata": {},
   "outputs": [],
   "source": []
  }
 ],
 "metadata": {
  "kernelspec": {
   "display_name": "Python 3 (ipykernel)",
   "language": "python",
   "name": "python3"
  },
  "language_info": {
   "codemirror_mode": {
    "name": "ipython",
    "version": 3
   },
   "file_extension": ".py",
   "mimetype": "text/x-python",
   "name": "python",
   "nbconvert_exporter": "python",
   "pygments_lexer": "ipython3",
   "version": "3.12.1"
  }
 },
 "nbformat": 4,
 "nbformat_minor": 5
}
