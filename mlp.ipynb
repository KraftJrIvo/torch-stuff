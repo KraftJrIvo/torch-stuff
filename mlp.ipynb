{
 "cells": [
  {
   "cell_type": "code",
   "execution_count": 1,
   "id": "045c95af-9aac-46a0-b9b0-8e2bfec14e4b",
   "metadata": {},
   "outputs": [],
   "source": [
    "import torch\n",
    "import matplotlib.pyplot as plt\n",
    "import torch.nn.functional as F\n",
    "import random"
   ]
  },
  {
   "cell_type": "code",
   "execution_count": 2,
   "id": "8b4c3596-addd-40ce-8345-4b1b0305679d",
   "metadata": {
    "editable": true,
    "slideshow": {
     "slide_type": ""
    },
    "tags": []
   },
   "outputs": [],
   "source": [
    "class Dataset:\n",
    "    def __init__(self, filepath, CTX_SZ):\n",
    "        self.words = [w.lower().strip() for w in open(filepath, \"r\", encoding=\"utf8\").readlines() if len(w) > 1]\n",
    "        self.letters = list(set(''.join(self.words)))\n",
    "        self.chtoi = { ch:(i+1) for i, ch in enumerate(self.letters) }\n",
    "        self.chtoi['.'] = 0\n",
    "        self.itoch = { i:ch for ch, i in self.chtoi.items() }\n",
    "        self.N_SYM = len(self.chtoi)\n",
    "        \n",
    "        self.CTX_SZ = CTX_SZ\n",
    "        self.x, self.y = [], []\n",
    "        for w in self.words:\n",
    "            ctx = [0] * self.CTX_SZ\n",
    "            for ch in w + '.':\n",
    "                idx = self.chtoi[ch]\n",
    "                self.x.append(ctx)\n",
    "                self.y.append(idx)\n",
    "                ctx = ctx[1:] + [idx]\n",
    "        self.N_SAMPLES = len(self.x)\n",
    "        \n",
    "        tmp = list(zip(self.x, self.y))\n",
    "        random.shuffle(tmp)\n",
    "        self.x, self.y = zip(*tmp)\n",
    "        self.x, self.y = list(self.x), list(self.y)\n",
    "        \n",
    "class MLP(torch.nn.Module):\n",
    "    def __init__(self, N_SYM, CTX_SZ, EMB_SZ, HID_SZ):\n",
    "        super().__init__()\n",
    "        self.CTX_SZ = CTX_SZ\n",
    "        self.EMB_SZ = EMB_SZ\n",
    "        self.HID_SZ = HID_SZ\n",
    "        self.C = torch.nn.Parameter(torch.randn((N_SYM, EMB_SZ)))\n",
    "        self.W1 = torch.nn.Parameter(torch.empty((EMB_SZ * CTX_SZ, HID_SZ)))\n",
    "        torch.nn.init.kaiming_normal_(self.W1, nonlinearity='tanh')\n",
    "        self.b1 = torch.nn.Parameter(torch.randn(HID_SZ) * 0.01)\n",
    "        self.W2 = torch.nn.Parameter(torch.randn((HID_SZ, N_SYM)) * 0.01)\n",
    "        self.b2 = torch.nn.Parameter(torch.randn(N_SYM) * 0)\n",
    "\n",
    "    def forward(self, x, bix = None):\n",
    "        batch = (self.C[x] if bix is None else self.C[x[bix]])\n",
    "        emb = (batch.view(-1, self.EMB_SZ * self.CTX_SZ))\n",
    "        h = (torch.tanh(emb @ self.W1 + self.b1))\n",
    "        logits = (h @ self.W2 + self.b2)\n",
    "        return logits\n",
    "\n",
    "    def scatter_plot_C(self):        \n",
    "        plt.figure(figsize=(8,8))\n",
    "        plt.scatter(model.C[:,0].cpu().data, model.C[:,1].cpu().data, s=200)\n",
    "        for i in range(model.C.shape[0]):\n",
    "            plt.text(model.C[i,0].item(), model.C[i,1].item(), d.itoch[i], ha='center', va='center', color='white')\n",
    "        return plt"
   ]
  },
  {
   "cell_type": "code",
   "execution_count": 3,
   "id": "00f5f0a6-c135-4bb0-8276-444d6170077a",
   "metadata": {},
   "outputs": [],
   "source": [
    "device = 'cuda' if torch.cuda.is_available() else 'cpu'\n",
    "\n",
    "d = Dataset(\"towns.txt\", CTX_SZ = 3)\n",
    "\n",
    "splt1 = int(d.N_SAMPLES * 0.8)\n",
    "splt2 = int(d.N_SAMPLES * 0.9)\n",
    "x_trn, y_trn = torch.tensor(d.x[:splt1], device=device), torch.tensor(d.y[:splt1], device=device)\n",
    "x_dev, y_dev = torch.tensor(d.x[splt1:splt2], device=device), torch.tensor(d.y[splt1:splt2], device=device)\n",
    "x_tst, y_tst = torch.tensor(d.x[splt2:], device=device), torch.tensor(d.y[splt2:], device=device)\n",
    "\n",
    "model = MLP(d.N_SYM, d.CTX_SZ, EMB_SZ=2, HID_SZ=100).to(device)"
   ]
  },
  {
   "cell_type": "code",
   "execution_count": 4,
   "id": "2485c332-f87d-4497-ba8e-31e257d4e05c",
   "metadata": {},
   "outputs": [
    {
     "name": "stdout",
     "output_type": "stream",
     "text": [
      "3.554480791091919\n",
      "3.553743600845337\n"
     ]
    }
   ],
   "source": [
    "def eval_loss(x, y):\n",
    "    with torch.no_grad():\n",
    "        logits = model(x)\n",
    "        loss = F.cross_entropy(logits, y)\n",
    "        print(loss.item())\n",
    "eval_loss(x_trn, y_trn)\n",
    "eval_loss(x_dev, y_dev)"
   ]
  },
  {
   "cell_type": "code",
   "execution_count": 5,
   "id": "f8a7de5b-35da-4469-88fd-768fe2336109",
   "metadata": {},
   "outputs": [
    {
     "name": "stdout",
     "output_type": "stream",
     "text": [
      "3.5541796684265137\n",
      "2.3312766551971436\n",
      "2.1316535472869873\n",
      "2.0052378177642822\n",
      "1.9624311923980713\n",
      "1.9184017181396484\n",
      "1.8602157831192017\n",
      "1.8134273290634155\n",
      "1.8095829486846924\n",
      "1.8111704587936401\n",
      "1.8173836469650269\n",
      "1.7744587659835815\n",
      "1.7638152837753296\n",
      "1.7623628377914429\n",
      "1.7384300231933594\n",
      "1.7722584009170532\n",
      "1.7405357360839844\n",
      "1.7315900325775146\n",
      "1.7277299165725708\n",
      "1.7269779443740845\n"
     ]
    }
   ],
   "source": [
    "ITS = 20000\n",
    "MB_SZ = 10000 if device == 'cuda' else 128\n",
    "\n",
    "optimizer = torch.optim.Adam(model.parameters())\n",
    "\n",
    "for i in range(ITS):\n",
    "    bix = torch.randint(0, x_trn.shape[0], (MB_SZ,))\n",
    "    logits = model(x_trn, bix)\n",
    "    loss = F.cross_entropy(logits, y_trn[bix])\n",
    "    loss.backward()\n",
    "    optimizer.step()\n",
    "    optimizer.zero_grad()\n",
    "    if i % 1000 == 0:\n",
    "        print(loss.item())"
   ]
  },
  {
   "cell_type": "code",
   "execution_count": 6,
   "id": "8c308001-3f93-43a2-9e54-3c7f8af18e72",
   "metadata": {},
   "outputs": [
    {
     "name": "stdout",
     "output_type": "stream",
     "text": [
      "1.7207393646240234\n",
      "2.585925817489624\n",
      "2.643404722213745\n"
     ]
    },
    {
     "data": {
      "image/png": "[encoded data removed]",
      "text/plain": [
       "<Figure size 800x800 with 1 Axes>"
      ]
     },
     "metadata": {},
     "output_type": "display_data"
    }
   ],
   "source": [
    "eval_loss(x_trn, y_trn)\n",
    "eval_loss(x_dev, y_dev)\n",
    "eval_loss(x_tst, y_tst)\n",
    "if model.EMB_SZ == 2:\n",
    "    model.scatter_plot_C().show()"
   ]
  },
  {
   "cell_type": "code",
   "execution_count": 7,
   "id": "5ff0adef-25b7-4b16-b00b-ef5e494a7938",
   "metadata": {},
   "outputs": [
    {
     "name": "stdout",
     "output_type": "stream",
     "text": [
      "плазариценгель\n",
      "сызвычегорязарков\n",
      "долиск\n",
      "велидов\n",
      "щий\n",
      "лунаново\n",
      "ссхалономимай\n",
      "иньлясуйн\n",
      "крыи рок\n",
      "сирск\n",
      "тащас\n",
      "нов\n",
      "иганта\n",
      "ижа\n",
      "дндальск\n",
      "кизлинск\n",
      "гукков\n",
      "кирово\n",
      "сарабеликино\n",
      "ново\n",
      "бар\n",
      "шихи\n",
      "курск\n",
      "со\n",
      "кормер\n",
      "гудерск\n",
      "вытевкарча\n",
      "рово\n",
      "кирогорск\n",
      "брадноозёрым\n"
     ]
    }
   ],
   "source": [
    "for _ in range(30):\n",
    "    ctx = [0] * d.CTX_SZ\n",
    "    word = ''\n",
    "    while True:        \n",
    "        logits = model(torch.tensor(ctx))\n",
    "        probs = F.softmax(logits, dim=1)        \n",
    "        idx = torch.multinomial(probs, num_samples=1, replacement=True).item()\n",
    "        if idx == 0:\n",
    "            break\n",
    "        ctx = ctx[1:] + [idx]\n",
    "        word += d.itoch[idx]\n",
    "    print(word)\n"
   ]
  },
  {
   "cell_type": "code",
   "execution_count": null,
   "id": "d51a472f-1bfd-4e42-8c3f-e4b40684859a",
   "metadata": {},
   "outputs": [],
   "source": []
  }
 ],
 "metadata": {
  "kernelspec": {
   "display_name": "Python 3 (ipykernel)",
   "language": "python",
   "name": "python3"
  },
  "language_info": {
   "codemirror_mode": {
    "name": "ipython",
    "version": 3
   },
   "file_extension": ".py",
   "mimetype": "text/x-python",
   "name": "python",
   "nbconvert_exporter": "python",
   "pygments_lexer": "ipython3",
   "version": "3.12.1"
  }
 },
 "nbformat": 4,
 "nbformat_minor": 5
}
